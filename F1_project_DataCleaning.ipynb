{
  "nbformat": 4,
  "nbformat_minor": 0,
  "metadata": {
    "colab": {
      "provenance": []
    },
    "kernelspec": {
      "name": "python3",
      "display_name": "Python 3"
    },
    "language_info": {
      "name": "python"
    }
  },
  "cells": [
    {
      "cell_type": "code",
      "source": [
        "import pandas as pd\n",
        "\n",
        "file_paths = {\n",
        "    \"status\": \"/content/status.csv\",\n",
        "    \"sprint_results\": \"/content/sprint_results.csv\",\n",
        "    \"seasons\": \"/content/seasons.csv\",\n",
        "    \"results\": \"/content/results.csv\",\n",
        "    \"races\": \"/content/races.csv\",\n",
        "    \"qualifying\": \"/content/qualifying.csv\",\n",
        "    \"pit_stops\": \"/content/pit_stops.csv\",\n",
        "    \"lap_times\": \"/content/lap_times.csv\",\n",
        "    \"drivers\": \"/content/drivers.csv\",\n",
        "    \"driver_standings\": \"/content/driver_standings.csv\",\n",
        "    \"constructors\": \"/content/constructors.csv\",\n",
        "    \"constructor_standings\": \"/content/constructor_standings.csv\",\n",
        "    \"constructor_results\": \"/content/constructor_results.csv\",\n",
        "    \"circuits\": \"/content/circuits.csv\",\n",
        "}\n",
        "\n",
        "datasets = {name: pd.read_csv(path) for name, path in file_paths.items()}\n",
        "\n",
        "# Your cleaning logic\n",
        "datasets[\"races\"][\"date\"] = pd.to_datetime(datasets[\"races\"][\"date\"], errors='coerce')\n",
        "datasets[\"races\"][\"time\"] = pd.to_datetime(datasets[\"races\"][\"time\"], errors='coerce').dt.time\n",
        "datasets[\"drivers\"][\"dob\"] = pd.to_datetime(datasets[\"drivers\"][\"dob\"], errors='coerce')\n",
        "datasets[\"pit_stops\"][\"time\"] = pd.to_datetime(datasets[\"pit_stops\"][\"time\"], errors='coerce').dt.time\n",
        "\n",
        "for q in [\"q1\", \"q2\", \"q3\"]:\n",
        "    datasets[\"qualifying\"][q] = pd.to_timedelta(datasets[\"qualifying\"][q], errors='coerce')\n",
        "\n",
        "datasets[\"drivers\"][\"fullName\"] = datasets[\"drivers\"][\"forename\"] + \" \" + datasets[\"drivers\"][\"surname\"]\n",
        "datasets[\"lap_times\"] = datasets[\"lap_times\"][datasets[\"lap_times\"][\"milliseconds\"] >= 30000]\n",
        "datasets[\"results\"] = datasets[\"results\"].drop_duplicates()\n",
        "datasets[\"lap_times\"] = datasets[\"lap_times\"].drop_duplicates()\n",
        "datasets[\"qualifying\"] = datasets[\"qualifying\"].drop_duplicates()\n"
      ],
      "metadata": {
        "colab": {
          "base_uri": "https://localhost:8080/"
        },
        "id": "kRhqRPz9jLsF",
        "outputId": "0ee90c1d-9e9a-4294-8d5e-1b9ea4a0b039"
      },
      "execution_count": null,
      "outputs": [
        {
          "output_type": "stream",
          "name": "stderr",
          "text": [
            "<ipython-input-4-038825449380>:24: UserWarning: Could not infer format, so each element will be parsed individually, falling back to `dateutil`. To ensure parsing is consistent and as-expected, please specify a format.\n",
            "  datasets[\"races\"][\"time\"] = pd.to_datetime(datasets[\"races\"][\"time\"], errors='coerce').dt.time\n",
            "<ipython-input-4-038825449380>:26: UserWarning: Could not infer format, so each element will be parsed individually, falling back to `dateutil`. To ensure parsing is consistent and as-expected, please specify a format.\n",
            "  datasets[\"pit_stops\"][\"time\"] = pd.to_datetime(datasets[\"pit_stops\"][\"time\"], errors='coerce').dt.time\n"
          ]
        }
      ]
    },
    {
      "cell_type": "code",
      "source": [
        "# Zip the folder to make it downloadable\n",
        "import shutil\n",
        "shutil.make_archive(\"/content/cleaned_f1_data\", 'zip', output_dir)\n",
        "\n",
        "print(\"✅ Zipped all cleaned files. You can now download cleaned_f1_data.zip\")\n"
      ],
      "metadata": {
        "colab": {
          "base_uri": "https://localhost:8080/"
        },
        "id": "dVa3Tf7Dje_M",
        "outputId": "b7233f45-0c71-4c5f-d76e-7c3296f94d01"
      },
      "execution_count": null,
      "outputs": [
        {
          "output_type": "stream",
          "name": "stdout",
          "text": [
            "✅ Zipped all cleaned files. You can now download cleaned_f1_data.zip\n"
          ]
        }
      ]
    }
  ]
}